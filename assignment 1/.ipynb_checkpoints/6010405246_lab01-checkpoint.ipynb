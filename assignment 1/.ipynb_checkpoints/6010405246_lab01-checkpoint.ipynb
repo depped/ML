{
 "cells": [
  {
   "cell_type": "code",
   "execution_count": 1,
   "metadata": {},
   "outputs": [],
   "source": [
    "import numpy as np\n",
    "import pandas as pd\n",
    "import math "
   ]
  },
  {
   "cell_type": "code",
   "execution_count": 11,
   "metadata": {},
   "outputs": [],
   "source": [
    "class neighbors:\n",
    "    def __init__(self,n_neighbors, p):\n",
    "        self.n_neighbors = n_neighbors\n",
    "        self.p = p\n",
    "    def KNeighborsClassifier(n_neighbors, p) :\n",
    "        return neighbors( n_neighbors, p) \n",
    "    \n",
    "    def distance(self,d,x):\n",
    "        sum=0\n",
    "        for i in range(len(x)):\n",
    "            sum += (float(d[i])-float(x[i]))**self.p\n",
    "        return math.sqrt(sum)  \n",
    "    def vote(self,label):\n",
    "        most = -1\n",
    "        count = 0\n",
    "        for i in label:\n",
    "            if(label.count(i)>count):\n",
    "                count = label.count(i)\n",
    "                most = i\n",
    "        return most\n",
    "        \n",
    "    def fit(self,x_train, y_train):\n",
    "        self.x_train = x_train\n",
    "        self.y_train = y_train\n",
    "   \n",
    "    def predict(self,x):\n",
    "        nearest_point =[]\n",
    "        nearest_label = []\n",
    "        for i in range(self.n_neighbors):\n",
    "            nearest_point.append(self.distance(self.x_train[i],x[0]))\n",
    "            nearest_label.append(self.y_train[i])\n",
    "        for i in range(len(self.x_train)):\n",
    "            for j in range(self.n_neighbors):\n",
    "                if(self.distance(self.x_train[i],x[0]) < nearest_point[j]):\n",
    "                    nearest_point.pop(j)\n",
    "                    nearest_label.pop(j)\n",
    "                    nearest_point.append(self.distance(self.x_train[i],x[0]))\n",
    "                    nearest_label.append(self.y_train[i])\n",
    "        res = self.vote(nearest_label)\n",
    "        return [res]\n",
    "    \n",
    "    def score(self,x_test,y_test):\n",
    "        sum = 0       \n",
    "        for i in range(len(x_test)):\n",
    "            x = np.array(x_test[i])\n",
    "            guess = h.predict(x.reshape(1, -1))\n",
    "            right = y_test[i]\n",
    "            if(guess == right):\n",
    "                sum+=1\n",
    "        return sum/len(x_test)\n",
    "            "
   ]
  },
  {
   "cell_type": "code",
   "execution_count": 12,
   "metadata": {},
   "outputs": [],
   "source": [
    "def train_test_split(x,y,test_size) :\n",
    "    length = len(x)\n",
    "    test = int(length*test_size)\n",
    "    train = length-test\n",
    "    return x[:train],x[train:],y[:train],y[train:]"
   ]
  },
  {
   "cell_type": "code",
   "execution_count": 13,
   "metadata": {},
   "outputs": [],
   "source": [
    "df = pd.read_csv('breast-cancer-wisconsin.csv')\n",
    "df.replace('?', -99999, inplace=True)\n",
    "df.drop(['id'], 1, inplace=True)"
   ]
  },
  {
   "cell_type": "code",
   "execution_count": 14,
   "metadata": {},
   "outputs": [],
   "source": [
    "x = np.array(df.drop(['class'], 1))\n",
    "y = np.array(df['class'])\n",
    "\n",
    "x_train, x_test, y_train, y_test = train_test_split(x, y, test_size=0.2)"
   ]
  },
  {
   "cell_type": "code",
   "execution_count": 15,
   "metadata": {},
   "outputs": [
    {
     "name": "stdout",
     "output_type": "stream",
     "text": [
      "[4]\n",
      "0.9928057553956835\n"
     ]
    }
   ],
   "source": [
    "h = neighbors.KNeighborsClassifier(n_neighbors=7, p=2)\n",
    "h.fit(x_train, y_train)\n",
    "\n",
    "new_x = np.array([4,6,5,6,7,8,4,9,1])\n",
    "result = h.predict(new_x.reshape(1, -1))\n",
    "print(result)\n",
    "\n",
    "print(h.score(x_test, y_test))"
   ]
  }
 ],
 "metadata": {
  "kernelspec": {
   "display_name": "Python 3",
   "language": "python",
   "name": "python3"
  },
  "language_info": {
   "codemirror_mode": {
    "name": "ipython",
    "version": 3
   },
   "file_extension": ".py",
   "mimetype": "text/x-python",
   "name": "python",
   "nbconvert_exporter": "python",
   "pygments_lexer": "ipython3",
   "version": "3.8.3"
  }
 },
 "nbformat": 4,
 "nbformat_minor": 4
}
