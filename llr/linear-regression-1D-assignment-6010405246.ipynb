{
 "cells": [
  {
   "cell_type": "code",
   "execution_count": 1,
   "metadata": {
    "tags": []
   },
   "outputs": [],
   "source": [
    "import numpy as np\n",
    "import pandas as pd\n",
    "import math\n",
    "import matplotlib.pyplot as plt\n",
    "\n",
    "# Linear regression in one dimension\n",
    "class linear_regression_1D:\n",
    "    \n",
    "    # Class constructor\n",
    "    def __init__(self):\n",
    "        # Define the vector w (the slop of the line)\n",
    "        # w is the two diemensional vector becuase we must absorb b into w\n",
    "        self.w = np.zeros(2)\n",
    "        # Define the learning rate\n",
    "        self.alpha = 1\n",
    "\n",
    "    # Class function to set the learning rate\n",
    "    def set_learning_rate(self, alpha):\n",
    "        self.alpha = alpha\n",
    "\n",
    "    # Class function to fit the data (find the appropiate value of w)\n",
    "    def fit(self, x, y, iteration=1500):\n",
    "        self.y = y\n",
    "        # Apply transformation to x. Recall that we must absorb b into w \n",
    "        self.x = np.append(x.transpose(), np.ones((x.shape[1], 1)), axis=1)\n",
    "\n",
    "        # Iteratively make an updage for w by gradient descent\n",
    "        for i in range(iteration):\n",
    "            self.make_one_update()\n",
    "\n",
    "    # Class function to make an update for w\n",
    "    def make_one_update(self):\n",
    "        w_current = self.w\n",
    "        # Set step size \n",
    "        step = (-1)*self.alpha*self.compute_gradient(w_current)\n",
    "        w_update = w_current + step\n",
    "        \n",
    "        # Report the progress of convergence\n",
    "        current_loss = self.sq_loss(w_current)\n",
    "        update_loss = self.sq_loss(w_update)\n",
    "        if current_loss > update_loss:\n",
    "            print(\"Loss decreases to \", update_loss,)\n",
    "        else:\n",
    "            print(\"Loss increases to \", update_loss,)\n",
    "        self.w = w_update\n",
    "    \n",
    "    # Class function to compute the gradient with respect to the current w\n",
    "    def compute_gradient(self, w_current):\n",
    "        grad_v = np.zeros(2)\n",
    "        # Uncomment the following to implement how to compute the gradient vector\n",
    "        for i in range(self.x.shape[0]):\n",
    "            grad_v[0] += 2*self.x[i][0]*(np.inner(self.w,self.x[i]) - self.y[i])\n",
    "            grad_v[1] += 2*self.x[i][1]*(np.inner(self.w,self.x[i]) - self.y[i])\n",
    "        print(\"The norm of grad vector is \", math.sqrt(np.inner(grad_v, grad_v)))\n",
    "        return grad_v\n",
    "\n",
    "    # Class function to compute the square loss function\n",
    "    def sq_loss(self, w):\n",
    "        # Uncomment the following to implement how to compute the loss function\n",
    "        loss = 0\n",
    "        for i in range(self.x.shape[0]):\n",
    "            loss += pow((np.inner(w,self.x[i]))-y[i],2)\n",
    "        return loss\n",
    "        "
   ]
  },
  {
   "cell_type": "code",
   "execution_count": 2,
   "metadata": {
    "tags": [
     "outputPrepend"
    ]
   },
   "outputs": [
    {
     "data": {
      "image/png": "[encoded data removed]",
      "text/plain": [
       "<Figure size 432x288 with 1 Axes>"
      ]
     },
     "metadata": {
      "needs_background": "light"
     },
     "output_type": "display_data"
    }
   ],
   "source": [
    "# Create our data set where x is one-dimensional\n",
    "x = np.array([[1, 2, 3, 4, 5, 6, 7, 8, 9, 10]])\n",
    "y = np.array([5.5, 7.1, 8.7, 13.1, 14.56, 19.01, 19.85, 26.12, 27.11, 28.112])\n",
    "\n",
    "# The 2D plot of our data\n",
    "plt.plot(x.transpose(), y, 'ro')\n",
    "plt.show()\n",
    "\n",
    "\n"
   ]
  },
  {
   "cell_type": "code",
   "execution_count": 3,
   "metadata": {},
   "outputs": [
    {
     "name": "stdout",
     "output_type": "stream",
     "text": [
      "[[ 1.  1.]\n",
      " [ 2.  1.]\n",
      " [ 3.  1.]\n",
      " [ 4.  1.]\n",
      " [ 5.  1.]\n",
      " [ 6.  1.]\n",
      " [ 7.  1.]\n",
      " [ 8.  1.]\n",
      " [ 9.  1.]\n",
      " [10.  1.]]\n",
      "The norm of grad vector is  2340.739258135344\n",
      "Loss decreases to  176.49887851216\n",
      "The norm of grad vector is  501.4145547115201\n",
      "Loss decreases to  23.85191256459594\n",
      "The norm of grad vector is  107.53824388871456\n",
      "Loss decreases to  16.819191080278223\n",
      "The norm of grad vector is  23.6531243617782\n",
      "Loss decreases to  16.467704758848704\n",
      "The norm of grad vector is  7.369045470813276\n",
      "Loss decreases to  16.423004656138197\n",
      "The norm of grad vector is  5.557430069944456\n",
      "Loss decreases to  16.392619834078644\n",
      "The norm of grad vector is  5.438070212271837\n",
      "Loss decreases to  16.36312929684785\n",
      "The norm of grad vector is  5.4107677508467065\n",
      "Loss decreases to  16.33391527937782\n",
      "The norm of grad vector is  5.387839201766682\n",
      "Loss decreases to  16.304947463981094\n",
      "The norm of grad vector is  5.365203275541965\n",
      "Loss decreases to  16.276222502446302\n",
      "The norm of grad vector is  5.34267145602448\n",
      "Loss decreases to  16.247738300364567\n",
      "The norm of grad vector is  5.320234676576438\n",
      "Loss decreases to  16.219492837119997\n",
      "The norm of grad vector is  5.29789214047213\n",
      "Loss decreases to  16.19148411161259\n",
      "The norm of grad vector is  5.275643433613469\n",
      "Loss decreases to  16.16371013963289\n",
      "The norm of grad vector is  5.253488161116773\n",
      "Loss decreases to  16.136168953607424\n",
      "The norm of grad vector is  5.231425930561874\n",
      "Loss decreases to  16.108858602454003\n",
      "The norm of grad vector is  5.209456351213681\n",
      "Loss decreases to  16.08177715144341\n",
      "The norm of grad vector is  5.187579033979704\n",
      "Loss decreases to  16.0549226820622\n",
      "The norm of grad vector is  5.165793591401565\n",
      "Loss decreases to  16.028293291876874\n",
      "The norm of grad vector is  5.1440996376480195\n",
      "Loss decreases to  16.00188709439904\n",
      "The norm of grad vector is  5.122496788508157\n",
      "Loss decreases to  15.975702218951822\n",
      "The norm of grad vector is  5.100984661384544\n",
      "Loss decreases to  15.949736810537296\n",
      "The norm of grad vector is  5.079562875286509\n",
      "Loss decreases to  15.923989029705096\n",
      "The norm of grad vector is  5.058231050823347\n",
      "Loss decreases to  15.89845705242216\n",
      "The norm of grad vector is  5.036988810197642\n",
      "Loss decreases to  15.873139069943353\n",
      "The norm of grad vector is  5.015835777198525\n",
      "Loss decreases to  15.848033288683514\n",
      "The norm of grad vector is  4.994771577195057\n",
      "Loss decreases to  15.823137930090322\n",
      "The norm of grad vector is  4.9737958371295745\n",
      "Loss decreases to  15.798451230518197\n",
      "The norm of grad vector is  4.952908185511081\n",
      "Loss decreases to  15.773971441103571\n",
      "The norm of grad vector is  4.932108252408666\n",
      "Loss decreases to  15.749696827640761\n",
      "The norm of grad vector is  4.911395669444976\n",
      "Loss decreases to  15.725625670459344\n",
      "The norm of grad vector is  4.890770069789651\n",
      "Loss decreases to  15.701756264302116\n",
      "The norm of grad vector is  4.8702310881528685\n",
      "Loss decreases to  15.678086918204446\n",
      "The norm of grad vector is  4.849778360778833\n",
      "Loss decreases to  15.654615955374432\n",
      "The norm of grad vector is  4.829411525439384\n",
      "Loss decreases to  15.631341713074058\n",
      "The norm of grad vector is  4.809130221427527\n",
      "Loss decreases to  15.608262542501494\n",
      "The norm of grad vector is  4.788934089551091\n",
      "Loss decreases to  15.585376808674217\n",
      "The norm of grad vector is  4.768822772126324\n",
      "Loss decreases to  15.562682890313276\n",
      "The norm of grad vector is  4.748795912971609\n",
      "Loss decreases to  15.540179179728277\n",
      "The norm of grad vector is  4.728853157401099\n",
      "Loss decreases to  15.517864082703692\n",
      "The norm of grad vector is  4.7089941522184855\n",
      "Loss decreases to  15.495736018385767\n",
      "The norm of grad vector is  4.689218545710711\n",
      "Loss decreases to  15.473793419170596\n",
      "The norm of grad vector is  4.669525987641763\n",
      "Loss decreases to  15.452034730593025\n",
      "The norm of grad vector is  4.649916129246434\n",
      "Loss decreases to  15.430458411216597\n",
      "The norm of grad vector is  4.630388623224199\n",
      "Loss decreases to  15.409062932524325\n",
      "The norm of grad vector is  4.610943123733018\n",
      "Loss decreases to  15.387846778810363\n",
      "The norm of grad vector is  4.591579286383229\n",
      "Loss decreases to  15.366808447072687\n",
      "The norm of grad vector is  4.57229676823145\n",
      "Loss decreases to  15.345946446906595\n",
      "The norm of grad vector is  4.553095227774513\n",
      "Loss decreases to  15.32525930039914\n",
      "The norm of grad vector is  4.533974324943395\n",
      "Loss decreases to  15.30474554202438\n"
     ]
    }
   ],
   "source": [
    "\n",
    "h = linear_regression_1D()\n",
    "\n",
    "# You may edit the learning rate if the current setting does not yield convergence\n",
    "h.set_learning_rate(0.001)\n",
    "\n",
    "# Uncomment the following to fit the vector w to our data. \n",
    "# You may also edit the number of iterations if the current setting does not yield convergence\n",
    "h.fit(x, y, iteration=50)"
   ]
  },
  {
   "cell_type": "code",
   "execution_count": 34,
   "metadata": {},
   "outputs": [
    {
     "data": {
      "image/png": "[encoded data removed]",
      "text/plain": [
       "<Figure size 432x288 with 1 Axes>"
      ]
     },
     "metadata": {
      "needs_background": "light"
     },
     "output_type": "display_data"
    }
   ],
   "source": [
    "# The following codes is to give a 2D plot our data and the linear function that we learnt from our setting\n",
    "plt.plot(x.transpose(), y, 'ro')\n",
    "plt.plot(x.transpose(), x.transpose()*h.w[0]+h.w[1], linestyle='solid')\n",
    "plt.show()"
   ]
  },
  {
   "cell_type": "code",
   "execution_count": null,
   "metadata": {},
   "outputs": [],
   "source": []
  }
 ],
 "metadata": {
  "kernelspec": {
   "display_name": "Python 3",
   "language": "python",
   "name": "python3"
  },
  "language_info": {
   "codemirror_mode": {
    "name": "ipython",
    "version": 3
   },
   "file_extension": ".py",
   "mimetype": "text/x-python",
   "name": "python",
   "nbconvert_exporter": "python",
   "pygments_lexer": "ipython3",
   "version": "3.8.3"
  }
 },
 "nbformat": 4,
 "nbformat_minor": 4
}
