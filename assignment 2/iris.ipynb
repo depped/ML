{
 "cells": [
  {
   "cell_type": "code",
   "execution_count": null,
   "metadata": {},
   "outputs": [],
   "source": [
    "import numpy as np\n",
    "from sklearn import datasets\n",
    "\n"
   ]
  },
  {
   "cell_type": "code",
   "execution_count": null,
   "metadata": {},
   "outputs": [],
   "source": [
    "def train_test_split(x,y,test_size):\n",
    "    rand = np.random.rand(x.shape[0])\n",
    "    split = rand < np.percentile(rand,100 - (100*test_size))\n",
    "    x_train = x[split]\n",
    "    x_test = x[~split]\n",
    "    y_train = y[split]\n",
    "    y_test = y[~split]\n",
    "    return x_train, x_test, y_train, y_test"
   ]
  },
  {
   "cell_type": "code",
   "execution_count": null,
   "metadata": {},
   "outputs": [],
   "source": [
    "def select(y,n):\n",
    "    arr = []\n",
    "    for i in y:\n",
    "        if i == n:\n",
    "            arr.append(1)\n",
    "        else:\n",
    "             arr.append(-1)\n",
    "    return(arr)  "
   ]
  },
  {
   "cell_type": "code",
   "execution_count": null,
   "metadata": {},
   "outputs": [],
   "source": [
    "def transform(x):\n",
    "    return np.append(x,[1])"
   ]
  },
  {
   "cell_type": "code",
   "execution_count": null,
   "metadata": {},
   "outputs": [],
   "source": [
    "def sign(n):\n",
    "    if n > 0:\n",
    "        return 1\n",
    "    elif n<0:\n",
    "        return -1\n",
    "    else :\n",
    "        return 0"
   ]
  },
  {
   "cell_type": "code",
   "execution_count": null,
   "metadata": {},
   "outputs": [],
   "source": [
    "def innerproduct(w,x):\n",
    "    sum =0.00\n",
    "    for i in range(len(x)):\n",
    "        sum += float(w[i]*x[i])\n",
    "\n",
    "    return sum"
   ]
  },
  {
   "cell_type": "code",
   "execution_count": null,
   "metadata": {},
   "outputs": [],
   "source": [
    "def predict (w,x,y) :\n",
    "    print( sign(innerproduct(w,x)), y)\n",
    "    return sign(innerproduct(w,x)) == y"
   ]
  },
  {
   "cell_type": "code",
   "execution_count": null,
   "metadata": {},
   "outputs": [],
   "source": [
    "iris = datasets.load_iris()\n",
    "\n",
    "x_train, x_test, y_train, y_test = train_test_split(iris.data,iris.target,test_size=0.3)\n",
    "w=[0] *(len(x_train[0])+1)\n",
    "y = select(y_train,0)\n",
    "\n",
    "while True:\n",
    "    m=0\n",
    "    for i in range(len(x_train)):\n",
    "        x = transform(x_train[i])\n",
    "        ip = innerproduct(w,x)\n",
    "        s = sign(ip)\n",
    "        label = int(y[i])\n",
    "        if s*label <=0:\n",
    "            print(\"index: %3d\"%i,\"w:\",w)\n",
    "            w=w+x*label\n",
    "            \n",
    "            print(\"               \",\"x:\",x)\n",
    "            print(\"               \",\"ip:\",ip,\"lb:\",label)\n",
    "            m=m+1\n",
    "    if m==0:\n",
    "        break"
   ]
  },
  {
   "cell_type": "code",
   "execution_count": null,
   "metadata": {},
   "outputs": [],
   "source": [
    "w"
   ]
  },
  {
   "cell_type": "code",
   "execution_count": null,
   "metadata": {},
   "outputs": [],
   "source": [
    "y = select(y_train,0)\n",
    "true = 0\n",
    "for i in range(len(x_test)):\n",
    "    print(predict(w,transform(x_test[i]),y[i]))\n",
    "    if (predict(w,transform(x_test[i]),y[i])):\n",
    "        true += 1\n",
    "        \n",
    "print(true/len(x_test))"
   ]
  },
  {
   "cell_type": "code",
   "execution_count": null,
   "metadata": {},
   "outputs": [],
   "source": []
  }
 ],
 "metadata": {
  "kernelspec": {
   "display_name": "Python 3",
   "language": "python",
   "name": "python3"
  },
  "language_info": {
   "codemirror_mode": {
    "name": "ipython",
    "version": 3
   },
   "file_extension": ".py",
   "mimetype": "text/x-python",
   "name": "python",
   "nbconvert_exporter": "python",
   "pygments_lexer": "ipython3",
   "version": "3.8.3"
  }
 },
 "nbformat": 4,
 "nbformat_minor": 4
}
