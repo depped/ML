{
 "cells": [
  {
   "cell_type": "code",
   "execution_count": null,
   "metadata": {},
   "outputs": [],
   "source": [
    "from sklearn import datasets as ds\n",
    "import numpy as np\n",
    "from sklearn.model_selection import train_test_split\n",
    "iris = ds.load_iris()\n",
    "\n",
    "X = iris.data\n",
    "Y = iris.target\n",
    "Y[Y > 0] = 1\n",
    "Y[Y <= 0] = -1\n",
    "d = np.shape(X)[1]"
   ]
  },
  {
   "cell_type": "code",
   "execution_count": null,
   "metadata": {},
   "outputs": [],
   "source": [
    "class Perceptron:\n",
    "    def __init__(self, d):\n",
    "        self.w = np.zeros(d+1)\n",
    "        self.d = d\n",
    "    def LinearClassifier(d):\n",
    "        return Perceptron(d)\n",
    "    \n",
    "    def fit(self, x_train, y_train):\n",
    "        x_train = np.insert(x_train, self.d,1 , axis=1)\n",
    "        while True:\n",
    "            m = 0\n",
    "            for i in range(len(x_train)):\n",
    "                if y_train[i]*self.predict(x_train[i]) <= 0:\n",
    "                    self.w += x_train[i]*y_train[i]\n",
    "                    m+=1\n",
    "            if m==0:\n",
    "                break      \n",
    "        print(self.w)\n",
    "        \n",
    "    def predict(self, x):\n",
    "        inner_product = 0\n",
    "        for i in range(len(x)):\n",
    "            inner_product += self.w[i]*x[i]\n",
    "        if inner_product < 0:\n",
    "            return -1\n",
    "        elif inner_product >0:\n",
    "            return 1\n",
    "        else :\n",
    "            return 0\n",
    "       \n",
    "    \n",
    "    def score(self, x_test, y_test):\n",
    "        x_test = np.insert(x_test, self.d,1 , axis=1)\n",
    "        sc = 0\n",
    "        for i in range(len(x_test)):\n",
    "            if self.predict(x_test[i]) == y_test[i]:\n",
    "                sc+=1\n",
    "        print(\"accuracy: \",(sc/(len(x_test)))*100.0,\"%\")\n",
    "        \n",
    "        "
   ]
  },
  {
   "cell_type": "code",
   "execution_count": null,
   "metadata": {},
   "outputs": [],
   "source": [
    "x_train, x_test, y_train, y_test = train_test_split(X, Y, test_size=0.2)\n",
    "\n",
    "h = Perceptron.LinearClassifier(d)\n",
    "\n",
    "h.fit(x_train, y_train)\n",
    "h.score(x_test, y_test)\n"
   ]
  },
  {
   "cell_type": "code",
   "execution_count": null,
   "metadata": {},
   "outputs": [],
   "source": [
    "# [-2.2 -5.4  9.3  4.  -1. ]\n",
    "# Accuracy: 100.0%\n"
   ]
  },
  {
   "cell_type": "code",
   "execution_count": null,
   "metadata": {},
   "outputs": [],
   "source": []
  }
 ],
 "metadata": {
  "kernelspec": {
   "display_name": "Python 3",
   "language": "python",
   "name": "python3"
  },
  "language_info": {
   "codemirror_mode": {
    "name": "ipython",
    "version": 3
   },
   "file_extension": ".py",
   "mimetype": "text/x-python",
   "name": "python",
   "nbconvert_exporter": "python",
   "pygments_lexer": "ipython3",
   "version": "3.8.3"
  }
 },
 "nbformat": 4,
 "nbformat_minor": 4
}
